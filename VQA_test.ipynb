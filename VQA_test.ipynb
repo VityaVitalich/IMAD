{
 "cells": [
  {
   "cell_type": "code",
   "execution_count": 1,
   "metadata": {},
   "outputs": [],
   "source": [
    "import warnings\n",
    "warnings.filterwarnings(\"ignore\")\n",
    "\n",
    "import torch\n",
    "import pandas as pd\n",
    "\n",
    "device = 'cuda:0' if torch.cuda.is_available() else 'cpu'\n",
    "\n",
    "from scorers.vqa_scorer import VQAScorer\n",
    "from scorers.schemas import Paths\n"
   ]
  },
  {
   "cell_type": "code",
   "execution_count": 2,
   "metadata": {},
   "outputs": [],
   "source": [
    "custom_path = Paths\n"
   ]
  },
  {
   "cell_type": "code",
   "execution_count": 3,
   "metadata": {},
   "outputs": [],
   "source": [
    "vscorer = VQAScorer(custom_path, device)"
   ]
  },
  {
   "cell_type": "code",
   "execution_count": 4,
   "metadata": {},
   "outputs": [
    {
     "data": {
      "application/vnd.jupyter.widget-view+json": {
       "model_id": "43489b73bacc4ac9af2927cdca315cc6",
       "version_major": 2,
       "version_minor": 0
      },
      "text/plain": [
       "Reading from json:   0%|          | 0/3011750 [00:00<?, ?it/s]"
      ]
     },
     "metadata": {},
     "output_type": "display_data"
    },
    {
     "data": {
      "application/vnd.jupyter.widget-view+json": {
       "model_id": "c859a9b7fc89495cb2b9f489d67a5549",
       "version_major": 2,
       "version_minor": 0
      },
      "text/plain": [
       "Loading image paths:   0%|          | 0/3011750 [00:00<?, ?it/s]"
      ]
     },
     "metadata": {},
     "output_type": "display_data"
    },
    {
     "name": "stdout",
     "output_type": "stream",
     "text": [
      "Failed to load 0/3011750 images\n"
     ]
    },
    {
     "data": {
      "application/vnd.jupyter.widget-view+json": {
       "model_id": "096d4202e12a49718b009eea521a10ab",
       "version_major": 2,
       "version_minor": 0
      },
      "text/plain": [
       "Loading feature vector paths:   0%|          | 0/3011750 [00:00<?, ?it/s]"
      ]
     },
     "metadata": {},
     "output_type": "display_data"
    },
    {
     "data": {
      "application/vnd.jupyter.widget-view+json": {
       "model_id": "774709f5825a421bb91db8c89acce84d",
       "version_major": 2,
       "version_minor": 0
      },
      "text/plain": [
       "Finding closest images:   0%|          | 0/2 [00:00<?, ?it/s]"
      ]
     },
     "metadata": {},
     "output_type": "display_data"
    }
   ],
   "source": [
    "vscorer.find_top_n_images()"
   ]
  },
  {
   "cell_type": "code",
   "execution_count": 6,
   "metadata": {},
   "outputs": [
    {
     "name": "stderr",
     "output_type": "stream",
     "text": [
      "100%|██████████| 2/2 [00:00<00:00,  2.17it/s]\n"
     ]
    }
   ],
   "source": [
    "vscorer.get_vqa_images()"
   ]
  },
  {
   "cell_type": "code",
   "execution_count": 7,
   "metadata": {},
   "outputs": [],
   "source": [
    "df = pd.read_json(custom_path.output_path)"
   ]
  },
  {
   "cell_type": "code",
   "execution_count": 8,
   "metadata": {},
   "outputs": [
    {
     "data": {
      "text/html": [
       "<div>\n",
       "<style scoped>\n",
       "    .dataframe tbody tr th:only-of-type {\n",
       "        vertical-align: middle;\n",
       "    }\n",
       "\n",
       "    .dataframe tbody tr th {\n",
       "        vertical-align: top;\n",
       "    }\n",
       "\n",
       "    .dataframe thead th {\n",
       "        text-align: right;\n",
       "    }\n",
       "</style>\n",
       "<table border=\"1\" class=\"dataframe\">\n",
       "  <thead>\n",
       "    <tr style=\"text-align: right;\">\n",
       "      <th></th>\n",
       "      <th>id</th>\n",
       "      <th>context</th>\n",
       "      <th>utter</th>\n",
       "      <th>image_like</th>\n",
       "      <th>image_idx</th>\n",
       "      <th>image_score</th>\n",
       "      <th>entity</th>\n",
       "      <th>scores_entity</th>\n",
       "      <th>max_entity_score</th>\n",
       "      <th>captioned_text</th>\n",
       "      <th>sent_sim</th>\n",
       "      <th>bleu_1ngram</th>\n",
       "      <th>threshold</th>\n",
       "      <th>top_n_images</th>\n",
       "      <th>confidence_vqa</th>\n",
       "      <th>vqa_idx</th>\n",
       "      <th>vqa_image</th>\n",
       "    </tr>\n",
       "  </thead>\n",
       "  <tbody>\n",
       "    <tr>\n",
       "      <th>0</th>\n",
       "      <td>0</td>\n",
       "      <td>[]</td>\n",
       "      <td>example text for creation</td>\n",
       "      <td>False</td>\n",
       "      <td>1659537</td>\n",
       "      <td>0.299404</td>\n",
       "      <td>[example, text, creation]</td>\n",
       "      <td>[0.2984294891, 0.3351576328, 0.2987823486]</td>\n",
       "      <td>0.335158</td>\n",
       "      <td>a number of signs on a white surface</td>\n",
       "      <td>0.161887</td>\n",
       "      <td>0</td>\n",
       "      <td>False</td>\n",
       "      <td>[1659537, 113845, 2704498, 2342052, 314126, 24...</td>\n",
       "      <td>[-8.2891960144, -7.7422094345, -7.8957595825, ...</td>\n",
       "      <td>8</td>\n",
       "      <td>958033</td>\n",
       "    </tr>\n",
       "    <tr>\n",
       "      <th>1</th>\n",
       "      <td>1</td>\n",
       "      <td>[]</td>\n",
       "      <td>test 2</td>\n",
       "      <td>False</td>\n",
       "      <td>372961</td>\n",
       "      <td>0.291698</td>\n",
       "      <td>[test]</td>\n",
       "      <td>[0.3181983829]</td>\n",
       "      <td>0.318198</td>\n",
       "      <td>a pink rose sitting in the middle of a street</td>\n",
       "      <td>0.033155</td>\n",
       "      <td>0</td>\n",
       "      <td>False</td>\n",
       "      <td>[372961, 1358598, 1402224, 2413181, 1020014, 1...</td>\n",
       "      <td>[-7.8707084656, -7.927520752, -7.3059034348, -...</td>\n",
       "      <td>5</td>\n",
       "      <td>1608695</td>\n",
       "    </tr>\n",
       "  </tbody>\n",
       "</table>\n",
       "</div>"
      ],
      "text/plain": [
       "   id context                      utter  image_like  image_idx  image_score   \n",
       "0   0      []  example text for creation       False    1659537     0.299404  \\\n",
       "1   1      []                     test 2       False     372961     0.291698   \n",
       "\n",
       "                      entity                               scores_entity   \n",
       "0  [example, text, creation]  [0.2984294891, 0.3351576328, 0.2987823486]  \\\n",
       "1                     [test]                              [0.3181983829]   \n",
       "\n",
       "   max_entity_score                                  captioned_text  sent_sim   \n",
       "0          0.335158           a number of signs on a white surface   0.161887  \\\n",
       "1          0.318198  a pink rose sitting in the middle of a street   0.033155   \n",
       "\n",
       "   bleu_1ngram  threshold                                       top_n_images   \n",
       "0            0      False  [1659537, 113845, 2704498, 2342052, 314126, 24...  \\\n",
       "1            0      False  [372961, 1358598, 1402224, 2413181, 1020014, 1...   \n",
       "\n",
       "                                      confidence_vqa  vqa_idx  vqa_image  \n",
       "0  [-8.2891960144, -7.7422094345, -7.8957595825, ...        8     958033  \n",
       "1  [-7.8707084656, -7.927520752, -7.3059034348, -...        5    1608695  "
      ]
     },
     "execution_count": 8,
     "metadata": {},
     "output_type": "execute_result"
    }
   ],
   "source": [
    "df"
   ]
  },
  {
   "cell_type": "code",
   "execution_count": null,
   "metadata": {},
   "outputs": [],
   "source": []
  }
 ],
 "metadata": {
  "kernelspec": {
   "display_name": "DataPrep",
   "language": "python",
   "name": "python3"
  },
  "language_info": {
   "codemirror_mode": {
    "name": "ipython",
    "version": 3
   },
   "file_extension": ".py",
   "mimetype": "text/x-python",
   "name": "python",
   "nbconvert_exporter": "python",
   "pygments_lexer": "ipython3",
   "version": "3.8.16"
  },
  "orig_nbformat": 4
 },
 "nbformat": 4,
 "nbformat_minor": 2
}
